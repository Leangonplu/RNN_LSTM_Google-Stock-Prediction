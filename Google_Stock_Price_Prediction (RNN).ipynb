{
  "cells": [
    {
      "cell_type": "markdown",
      "metadata": {
        "id": "CBiLHzH6SX-V"
      },
      "source": [
        "Google Stock Price Prediction"
      ]
    },
    {
      "cell_type": "markdown",
      "metadata": {
        "id": "aD2jfCiEjDhH"
      },
      "source": [
        "### We can use PANDAS.READ()\n",
        "\n",
        "#### Import Libraries\n",
        "import pandas as pd\n",
        "import os\n",
        "\n",
        "#### Path to CSV file on the desktop \n",
        "file_path = os.path.expanduser(\"~/Desktop/Repo_Leandro/Machine_Learning/Time_Series_Cloud/Google_Stock_Price_Train.csv\")\n",
        "\n",
        "#### Read CSV file\n",
        "data = pd.read_csv(file_path)\n",
        "\n",
        "#### Display data in the console\n",
        "print(data)"
      ]
    },
    {
      "cell_type": "markdown",
      "metadata": {
        "id": "yyz-Yyfyjjtm"
      },
      "source": [
        "### In this specific case, we will use for the purpose of reading the Data: \"GOOGLE COLAB\"."
      ]
    },
    {
      "cell_type": "code",
      "execution_count": 79,
      "metadata": {
        "colab": {
          "base_uri": "https://localhost:8080/"
        },
        "id": "2oKyQTVfkSGZ",
        "outputId": "d9be304c-59df-459f-a060-a785de437fc8"
      },
      "outputs": [
        {
          "name": "stdout",
          "output_type": "stream",
          "text": [
            "Drive already mounted at content.drive; to attempt to forcibly remount, call drive.mount(\"content.drive\", force_remount=True).\n"
          ]
        }
      ],
      "source": [
        "from google.colab import drive\n",
        "drive.mount('content.drive')"
      ]
    },
    {
      "cell_type": "code",
      "execution_count": 80,
      "metadata": {
        "id": "KMCix5XElJ3i"
      },
      "outputs": [],
      "source": [
        "# We import Libraries\n",
        "import pandas as pd"
      ]
    },
    {
      "cell_type": "code",
      "execution_count": 85,
      "metadata": {
        "id": "ANXhTK1HlZ7s"
      },
      "outputs": [],
      "source": [
        "#Import the dataset we will work with: \"Google_Stock_Price_Train.csv\".\n",
        "data = pd.read_csv('/content/content.drive/MyDrive/Google_Stock_Price_Train.csv')"
      ]
    },
    {
      "cell_type": "code",
      "execution_count": 87,
      "metadata": {
        "colab": {
          "base_uri": "https://localhost:8080/",
          "height": 206
        },
        "id": "HnL18K43lat6",
        "outputId": "f6a966cc-d15b-4447-f3de-206431a44ac5"
      },
      "outputs": [
        {
          "data": {
            "text/html": [
              "\n",
              "  <div id=\"df-f87d07e4-b072-42ab-af71-1bd48008a813\">\n",
              "    <div class=\"colab-df-container\">\n",
              "      <div>\n",
              "<style scoped>\n",
              "    .dataframe tbody tr th:only-of-type {\n",
              "        vertical-align: middle;\n",
              "    }\n",
              "\n",
              "    .dataframe tbody tr th {\n",
              "        vertical-align: top;\n",
              "    }\n",
              "\n",
              "    .dataframe thead th {\n",
              "        text-align: right;\n",
              "    }\n",
              "</style>\n",
              "<table border=\"1\" class=\"dataframe\">\n",
              "  <thead>\n",
              "    <tr style=\"text-align: right;\">\n",
              "      <th></th>\n",
              "      <th>Date</th>\n",
              "      <th>Open</th>\n",
              "      <th>High</th>\n",
              "      <th>Low</th>\n",
              "      <th>Close</th>\n",
              "      <th>Adj Close</th>\n",
              "      <th>Volume</th>\n",
              "    </tr>\n",
              "  </thead>\n",
              "  <tbody>\n",
              "    <tr>\n",
              "      <th>0</th>\n",
              "      <td>2018-03-27</td>\n",
              "      <td>53.150002</td>\n",
              "      <td>53.241951</td>\n",
              "      <td>49.846001</td>\n",
              "      <td>50.255001</td>\n",
              "      <td>50.255001</td>\n",
              "      <td>61906000</td>\n",
              "    </tr>\n",
              "    <tr>\n",
              "      <th>1</th>\n",
              "      <td>2018-03-28</td>\n",
              "      <td>49.900002</td>\n",
              "      <td>51.211498</td>\n",
              "      <td>49.032001</td>\n",
              "      <td>50.228001</td>\n",
              "      <td>50.228001</td>\n",
              "      <td>67386000</td>\n",
              "    </tr>\n",
              "    <tr>\n",
              "      <th>2</th>\n",
              "      <td>2018-03-29</td>\n",
              "      <td>50.581501</td>\n",
              "      <td>52.150002</td>\n",
              "      <td>50.145000</td>\n",
              "      <td>51.589500</td>\n",
              "      <td>51.589500</td>\n",
              "      <td>54536000</td>\n",
              "    </tr>\n",
              "    <tr>\n",
              "      <th>3</th>\n",
              "      <td>2018-04-02</td>\n",
              "      <td>51.140999</td>\n",
              "      <td>51.740002</td>\n",
              "      <td>49.518501</td>\n",
              "      <td>50.323502</td>\n",
              "      <td>50.323502</td>\n",
              "      <td>53608000</td>\n",
              "    </tr>\n",
              "    <tr>\n",
              "      <th>4</th>\n",
              "      <td>2018-04-03</td>\n",
              "      <td>50.695499</td>\n",
              "      <td>51.049500</td>\n",
              "      <td>49.703499</td>\n",
              "      <td>50.670502</td>\n",
              "      <td>50.670502</td>\n",
              "      <td>45502000</td>\n",
              "    </tr>\n",
              "  </tbody>\n",
              "</table>\n",
              "</div>\n",
              "      <button class=\"colab-df-convert\" onclick=\"convertToInteractive('df-f87d07e4-b072-42ab-af71-1bd48008a813')\"\n",
              "              title=\"Convert this dataframe to an interactive table.\"\n",
              "              style=\"display:none;\">\n",
              "        \n",
              "  <svg xmlns=\"http://www.w3.org/2000/svg\" height=\"24px\"viewBox=\"0 0 24 24\"\n",
              "       width=\"24px\">\n",
              "    <path d=\"M0 0h24v24H0V0z\" fill=\"none\"/>\n",
              "    <path d=\"M18.56 5.44l.94 2.06.94-2.06 2.06-.94-2.06-.94-.94-2.06-.94 2.06-2.06.94zm-11 1L8.5 8.5l.94-2.06 2.06-.94-2.06-.94L8.5 2.5l-.94 2.06-2.06.94zm10 10l.94 2.06.94-2.06 2.06-.94-2.06-.94-.94-2.06-.94 2.06-2.06.94z\"/><path d=\"M17.41 7.96l-1.37-1.37c-.4-.4-.92-.59-1.43-.59-.52 0-1.04.2-1.43.59L10.3 9.45l-7.72 7.72c-.78.78-.78 2.05 0 2.83L4 21.41c.39.39.9.59 1.41.59.51 0 1.02-.2 1.41-.59l7.78-7.78 2.81-2.81c.8-.78.8-2.07 0-2.86zM5.41 20L4 18.59l7.72-7.72 1.47 1.35L5.41 20z\"/>\n",
              "  </svg>\n",
              "      </button>\n",
              "      \n",
              "  <style>\n",
              "    .colab-df-container {\n",
              "      display:flex;\n",
              "      flex-wrap:wrap;\n",
              "      gap: 12px;\n",
              "    }\n",
              "\n",
              "    .colab-df-convert {\n",
              "      background-color: #E8F0FE;\n",
              "      border: none;\n",
              "      border-radius: 50%;\n",
              "      cursor: pointer;\n",
              "      display: none;\n",
              "      fill: #1967D2;\n",
              "      height: 32px;\n",
              "      padding: 0 0 0 0;\n",
              "      width: 32px;\n",
              "    }\n",
              "\n",
              "    .colab-df-convert:hover {\n",
              "      background-color: #E2EBFA;\n",
              "      box-shadow: 0px 1px 2px rgba(60, 64, 67, 0.3), 0px 1px 3px 1px rgba(60, 64, 67, 0.15);\n",
              "      fill: #174EA6;\n",
              "    }\n",
              "\n",
              "    [theme=dark] .colab-df-convert {\n",
              "      background-color: #3B4455;\n",
              "      fill: #D2E3FC;\n",
              "    }\n",
              "\n",
              "    [theme=dark] .colab-df-convert:hover {\n",
              "      background-color: #434B5C;\n",
              "      box-shadow: 0px 1px 3px 1px rgba(0, 0, 0, 0.15);\n",
              "      filter: drop-shadow(0px 1px 2px rgba(0, 0, 0, 0.3));\n",
              "      fill: #FFFFFF;\n",
              "    }\n",
              "  </style>\n",
              "\n",
              "      <script>\n",
              "        const buttonEl =\n",
              "          document.querySelector('#df-f87d07e4-b072-42ab-af71-1bd48008a813 button.colab-df-convert');\n",
              "        buttonEl.style.display =\n",
              "          google.colab.kernel.accessAllowed ? 'block' : 'none';\n",
              "\n",
              "        async function convertToInteractive(key) {\n",
              "          const element = document.querySelector('#df-f87d07e4-b072-42ab-af71-1bd48008a813');\n",
              "          const dataTable =\n",
              "            await google.colab.kernel.invokeFunction('convertToInteractive',\n",
              "                                                     [key], {});\n",
              "          if (!dataTable) return;\n",
              "\n",
              "          const docLinkHtml = 'Like what you see? Visit the ' +\n",
              "            '<a target=\"_blank\" href=https://colab.research.google.com/notebooks/data_table.ipynb>data table notebook</a>'\n",
              "            + ' to learn more about interactive tables.';\n",
              "          element.innerHTML = '';\n",
              "          dataTable['output_type'] = 'display_data';\n",
              "          await google.colab.output.renderOutput(dataTable, element);\n",
              "          const docLink = document.createElement('div');\n",
              "          docLink.innerHTML = docLinkHtml;\n",
              "          element.appendChild(docLink);\n",
              "        }\n",
              "      </script>\n",
              "    </div>\n",
              "  </div>\n",
              "  "
            ],
            "text/plain": [
              "         Date       Open       High        Low      Close  Adj Close    Volume\n",
              "0  2018-03-27  53.150002  53.241951  49.846001  50.255001  50.255001  61906000\n",
              "1  2018-03-28  49.900002  51.211498  49.032001  50.228001  50.228001  67386000\n",
              "2  2018-03-29  50.581501  52.150002  50.145000  51.589500  51.589500  54536000\n",
              "3  2018-04-02  51.140999  51.740002  49.518501  50.323502  50.323502  53608000\n",
              "4  2018-04-03  50.695499  51.049500  49.703499  50.670502  50.670502  45502000"
            ]
          },
          "execution_count": 87,
          "metadata": {},
          "output_type": "execute_result"
        }
      ],
      "source": [
        "# Data for the last 5 years - Diaries\n",
        "data.head()"
      ]
    },
    {
      "cell_type": "code",
      "execution_count": 88,
      "metadata": {
        "colab": {
          "base_uri": "https://localhost:8080/",
          "height": 206
        },
        "id": "ENafT3lela7D",
        "outputId": "5821a408-a6ec-4858-83fb-0f5a8cc50401"
      },
      "outputs": [
        {
          "data": {
            "text/html": [
              "\n",
              "  <div id=\"df-0117b569-70ef-4147-8277-0438c7430e74\">\n",
              "    <div class=\"colab-df-container\">\n",
              "      <div>\n",
              "<style scoped>\n",
              "    .dataframe tbody tr th:only-of-type {\n",
              "        vertical-align: middle;\n",
              "    }\n",
              "\n",
              "    .dataframe tbody tr th {\n",
              "        vertical-align: top;\n",
              "    }\n",
              "\n",
              "    .dataframe thead th {\n",
              "        text-align: right;\n",
              "    }\n",
              "</style>\n",
              "<table border=\"1\" class=\"dataframe\">\n",
              "  <thead>\n",
              "    <tr style=\"text-align: right;\">\n",
              "      <th></th>\n",
              "      <th>Date</th>\n",
              "      <th>Open</th>\n",
              "      <th>High</th>\n",
              "      <th>Low</th>\n",
              "      <th>Close</th>\n",
              "      <th>Adj Close</th>\n",
              "      <th>Volume</th>\n",
              "    </tr>\n",
              "  </thead>\n",
              "  <tbody>\n",
              "    <tr>\n",
              "      <th>1253</th>\n",
              "      <td>2023-03-20</td>\n",
              "      <td>101.059998</td>\n",
              "      <td>102.580002</td>\n",
              "      <td>100.790001</td>\n",
              "      <td>101.930000</td>\n",
              "      <td>101.930000</td>\n",
              "      <td>26033900</td>\n",
              "    </tr>\n",
              "    <tr>\n",
              "      <th>1254</th>\n",
              "      <td>2023-03-21</td>\n",
              "      <td>101.980003</td>\n",
              "      <td>105.959999</td>\n",
              "      <td>101.860001</td>\n",
              "      <td>105.839996</td>\n",
              "      <td>105.839996</td>\n",
              "      <td>33122800</td>\n",
              "    </tr>\n",
              "    <tr>\n",
              "      <th>1255</th>\n",
              "      <td>2023-03-22</td>\n",
              "      <td>105.139999</td>\n",
              "      <td>107.510002</td>\n",
              "      <td>104.209999</td>\n",
              "      <td>104.220001</td>\n",
              "      <td>104.220001</td>\n",
              "      <td>32336900</td>\n",
              "    </tr>\n",
              "    <tr>\n",
              "      <th>1256</th>\n",
              "      <td>2023-03-23</td>\n",
              "      <td>105.889999</td>\n",
              "      <td>107.100998</td>\n",
              "      <td>105.410004</td>\n",
              "      <td>106.260002</td>\n",
              "      <td>106.260002</td>\n",
              "      <td>31385800</td>\n",
              "    </tr>\n",
              "    <tr>\n",
              "      <th>1257</th>\n",
              "      <td>2023-03-24</td>\n",
              "      <td>105.739998</td>\n",
              "      <td>106.160004</td>\n",
              "      <td>104.739998</td>\n",
              "      <td>106.059998</td>\n",
              "      <td>106.059998</td>\n",
              "      <td>25236200</td>\n",
              "    </tr>\n",
              "  </tbody>\n",
              "</table>\n",
              "</div>\n",
              "      <button class=\"colab-df-convert\" onclick=\"convertToInteractive('df-0117b569-70ef-4147-8277-0438c7430e74')\"\n",
              "              title=\"Convert this dataframe to an interactive table.\"\n",
              "              style=\"display:none;\">\n",
              "        \n",
              "  <svg xmlns=\"http://www.w3.org/2000/svg\" height=\"24px\"viewBox=\"0 0 24 24\"\n",
              "       width=\"24px\">\n",
              "    <path d=\"M0 0h24v24H0V0z\" fill=\"none\"/>\n",
              "    <path d=\"M18.56 5.44l.94 2.06.94-2.06 2.06-.94-2.06-.94-.94-2.06-.94 2.06-2.06.94zm-11 1L8.5 8.5l.94-2.06 2.06-.94-2.06-.94L8.5 2.5l-.94 2.06-2.06.94zm10 10l.94 2.06.94-2.06 2.06-.94-2.06-.94-.94-2.06-.94 2.06-2.06.94z\"/><path d=\"M17.41 7.96l-1.37-1.37c-.4-.4-.92-.59-1.43-.59-.52 0-1.04.2-1.43.59L10.3 9.45l-7.72 7.72c-.78.78-.78 2.05 0 2.83L4 21.41c.39.39.9.59 1.41.59.51 0 1.02-.2 1.41-.59l7.78-7.78 2.81-2.81c.8-.78.8-2.07 0-2.86zM5.41 20L4 18.59l7.72-7.72 1.47 1.35L5.41 20z\"/>\n",
              "  </svg>\n",
              "      </button>\n",
              "      \n",
              "  <style>\n",
              "    .colab-df-container {\n",
              "      display:flex;\n",
              "      flex-wrap:wrap;\n",
              "      gap: 12px;\n",
              "    }\n",
              "\n",
              "    .colab-df-convert {\n",
              "      background-color: #E8F0FE;\n",
              "      border: none;\n",
              "      border-radius: 50%;\n",
              "      cursor: pointer;\n",
              "      display: none;\n",
              "      fill: #1967D2;\n",
              "      height: 32px;\n",
              "      padding: 0 0 0 0;\n",
              "      width: 32px;\n",
              "    }\n",
              "\n",
              "    .colab-df-convert:hover {\n",
              "      background-color: #E2EBFA;\n",
              "      box-shadow: 0px 1px 2px rgba(60, 64, 67, 0.3), 0px 1px 3px 1px rgba(60, 64, 67, 0.15);\n",
              "      fill: #174EA6;\n",
              "    }\n",
              "\n",
              "    [theme=dark] .colab-df-convert {\n",
              "      background-color: #3B4455;\n",
              "      fill: #D2E3FC;\n",
              "    }\n",
              "\n",
              "    [theme=dark] .colab-df-convert:hover {\n",
              "      background-color: #434B5C;\n",
              "      box-shadow: 0px 1px 3px 1px rgba(0, 0, 0, 0.15);\n",
              "      filter: drop-shadow(0px 1px 2px rgba(0, 0, 0, 0.3));\n",
              "      fill: #FFFFFF;\n",
              "    }\n",
              "  </style>\n",
              "\n",
              "      <script>\n",
              "        const buttonEl =\n",
              "          document.querySelector('#df-0117b569-70ef-4147-8277-0438c7430e74 button.colab-df-convert');\n",
              "        buttonEl.style.display =\n",
              "          google.colab.kernel.accessAllowed ? 'block' : 'none';\n",
              "\n",
              "        async function convertToInteractive(key) {\n",
              "          const element = document.querySelector('#df-0117b569-70ef-4147-8277-0438c7430e74');\n",
              "          const dataTable =\n",
              "            await google.colab.kernel.invokeFunction('convertToInteractive',\n",
              "                                                     [key], {});\n",
              "          if (!dataTable) return;\n",
              "\n",
              "          const docLinkHtml = 'Like what you see? Visit the ' +\n",
              "            '<a target=\"_blank\" href=https://colab.research.google.com/notebooks/data_table.ipynb>data table notebook</a>'\n",
              "            + ' to learn more about interactive tables.';\n",
              "          element.innerHTML = '';\n",
              "          dataTable['output_type'] = 'display_data';\n",
              "          await google.colab.output.renderOutput(dataTable, element);\n",
              "          const docLink = document.createElement('div');\n",
              "          docLink.innerHTML = docLinkHtml;\n",
              "          element.appendChild(docLink);\n",
              "        }\n",
              "      </script>\n",
              "    </div>\n",
              "  </div>\n",
              "  "
            ],
            "text/plain": [
              "            Date        Open        High         Low       Close   Adj Close  \\\n",
              "1253  2023-03-20  101.059998  102.580002  100.790001  101.930000  101.930000   \n",
              "1254  2023-03-21  101.980003  105.959999  101.860001  105.839996  105.839996   \n",
              "1255  2023-03-22  105.139999  107.510002  104.209999  104.220001  104.220001   \n",
              "1256  2023-03-23  105.889999  107.100998  105.410004  106.260002  106.260002   \n",
              "1257  2023-03-24  105.739998  106.160004  104.739998  106.059998  106.059998   \n",
              "\n",
              "        Volume  \n",
              "1253  26033900  \n",
              "1254  33122800  \n",
              "1255  32336900  \n",
              "1256  31385800  \n",
              "1257  25236200  "
            ]
          },
          "execution_count": 88,
          "metadata": {},
          "output_type": "execute_result"
        }
      ],
      "source": [
        "data. tail()"
      ]
    },
    {
      "cell_type": "code",
      "execution_count": 89,
      "metadata": {
        "colab": {
          "base_uri": "https://localhost:8080/"
        },
        "id": "_Gl4hx2clbBT",
        "outputId": "1a403633-a68e-4c01-f65e-76ec6c09bb32"
      },
      "outputs": [
        {
          "data": {
            "text/plain": [
              "(1258, 7)"
            ]
          },
          "execution_count": 89,
          "metadata": {},
          "output_type": "execute_result"
        }
      ],
      "source": [
        "data.shape    "
      ]
    },
    {
      "cell_type": "code",
      "execution_count": 90,
      "metadata": {
        "colab": {
          "base_uri": "https://localhost:8080/"
        },
        "id": "SfzPe2PT62Q3",
        "outputId": "7c4bbdd1-e3f7-4da7-f1be-031e83f1c644"
      },
      "outputs": [
        {
          "data": {
            "text/plain": [
              "Index(['Date', 'Open', 'High', 'Low', 'Close', 'Adj Close', 'Volume'], dtype='object')"
            ]
          },
          "execution_count": 90,
          "metadata": {},
          "output_type": "execute_result"
        }
      ],
      "source": [
        "data.columns"
      ]
    },
    {
      "cell_type": "code",
      "execution_count": 91,
      "metadata": {
        "colab": {
          "base_uri": "https://localhost:8080/"
        },
        "id": "X_y9Dfwb62WD",
        "outputId": "2e83c8cf-79fc-4e6b-8d60-da985ff19826"
      },
      "outputs": [
        {
          "data": {
            "text/plain": [
              "0"
            ]
          },
          "execution_count": 91,
          "metadata": {},
          "output_type": "execute_result"
        }
      ],
      "source": [
        "data.duplicated().sum()"
      ]
    },
    {
      "cell_type": "code",
      "execution_count": 92,
      "metadata": {
        "colab": {
          "base_uri": "https://localhost:8080/"
        },
        "id": "Q-fOIE3m62Y9",
        "outputId": "186d424a-b9e6-499a-c389-5181dadb89b1"
      },
      "outputs": [
        {
          "data": {
            "text/plain": [
              "Date         0\n",
              "Open         0\n",
              "High         0\n",
              "Low          0\n",
              "Close        0\n",
              "Adj Close    0\n",
              "Volume       0\n",
              "dtype: int64"
            ]
          },
          "execution_count": 92,
          "metadata": {},
          "output_type": "execute_result"
        }
      ],
      "source": [
        "data.isnull().sum()"
      ]
    },
    {
      "cell_type": "code",
      "execution_count": 93,
      "metadata": {
        "colab": {
          "base_uri": "https://localhost:8080/"
        },
        "id": "w6gx8EIp62fd",
        "outputId": "908bb086-7206-40dc-992e-9f5cd451ac80"
      },
      "outputs": [
        {
          "name": "stdout",
          "output_type": "stream",
          "text": [
            "<class 'pandas.core.frame.DataFrame'>\n",
            "RangeIndex: 1258 entries, 0 to 1257\n",
            "Data columns (total 7 columns):\n",
            " #   Column     Non-Null Count  Dtype  \n",
            "---  ------     --------------  -----  \n",
            " 0   Date       1258 non-null   object \n",
            " 1   Open       1258 non-null   float64\n",
            " 2   High       1258 non-null   float64\n",
            " 3   Low        1258 non-null   float64\n",
            " 4   Close      1258 non-null   float64\n",
            " 5   Adj Close  1258 non-null   float64\n",
            " 6   Volume     1258 non-null   int64  \n",
            "dtypes: float64(5), int64(1), object(1)\n",
            "memory usage: 68.9+ KB\n"
          ]
        }
      ],
      "source": [
        "data.info()"
      ]
    },
    {
      "cell_type": "code",
      "execution_count": 94,
      "metadata": {
        "colab": {
          "base_uri": "https://localhost:8080/",
          "height": 300
        },
        "id": "T2XJvaJk62kX",
        "outputId": "74b039de-7780-4b94-ddb6-6ceaab833273"
      },
      "outputs": [
        {
          "data": {
            "text/html": [
              "\n",
              "  <div id=\"df-da69ba9c-1d86-4ae1-b2bc-2819f5f11986\">\n",
              "    <div class=\"colab-df-container\">\n",
              "      <div>\n",
              "<style scoped>\n",
              "    .dataframe tbody tr th:only-of-type {\n",
              "        vertical-align: middle;\n",
              "    }\n",
              "\n",
              "    .dataframe tbody tr th {\n",
              "        vertical-align: top;\n",
              "    }\n",
              "\n",
              "    .dataframe thead th {\n",
              "        text-align: right;\n",
              "    }\n",
              "</style>\n",
              "<table border=\"1\" class=\"dataframe\">\n",
              "  <thead>\n",
              "    <tr style=\"text-align: right;\">\n",
              "      <th></th>\n",
              "      <th>Open</th>\n",
              "      <th>High</th>\n",
              "      <th>Low</th>\n",
              "      <th>Close</th>\n",
              "      <th>Adj Close</th>\n",
              "      <th>Volume</th>\n",
              "    </tr>\n",
              "  </thead>\n",
              "  <tbody>\n",
              "    <tr>\n",
              "      <th>count</th>\n",
              "      <td>1258.000000</td>\n",
              "      <td>1258.000000</td>\n",
              "      <td>1258.000000</td>\n",
              "      <td>1258.000000</td>\n",
              "      <td>1258.000000</td>\n",
              "      <td>1.258000e+03</td>\n",
              "    </tr>\n",
              "    <tr>\n",
              "      <th>mean</th>\n",
              "      <td>87.775274</td>\n",
              "      <td>88.793803</td>\n",
              "      <td>86.836276</td>\n",
              "      <td>87.831196</td>\n",
              "      <td>87.831196</td>\n",
              "      <td>3.078643e+07</td>\n",
              "    </tr>\n",
              "    <tr>\n",
              "      <th>std</th>\n",
              "      <td>30.627858</td>\n",
              "      <td>30.931427</td>\n",
              "      <td>30.290432</td>\n",
              "      <td>30.599817</td>\n",
              "      <td>30.599817</td>\n",
              "      <td>1.338514e+07</td>\n",
              "    </tr>\n",
              "    <tr>\n",
              "      <th>min</th>\n",
              "      <td>48.695000</td>\n",
              "      <td>50.176998</td>\n",
              "      <td>48.505501</td>\n",
              "      <td>48.811001</td>\n",
              "      <td>48.811001</td>\n",
              "      <td>6.936000e+06</td>\n",
              "    </tr>\n",
              "    <tr>\n",
              "      <th>25%</th>\n",
              "      <td>59.708999</td>\n",
              "      <td>60.144124</td>\n",
              "      <td>59.214249</td>\n",
              "      <td>59.705001</td>\n",
              "      <td>59.705001</td>\n",
              "      <td>2.232650e+07</td>\n",
              "    </tr>\n",
              "    <tr>\n",
              "      <th>50%</th>\n",
              "      <td>77.826752</td>\n",
              "      <td>78.865799</td>\n",
              "      <td>76.610127</td>\n",
              "      <td>77.925499</td>\n",
              "      <td>77.925499</td>\n",
              "      <td>2.749400e+07</td>\n",
              "    </tr>\n",
              "    <tr>\n",
              "      <th>75%</th>\n",
              "      <td>113.282623</td>\n",
              "      <td>114.807499</td>\n",
              "      <td>112.140499</td>\n",
              "      <td>113.340628</td>\n",
              "      <td>113.340628</td>\n",
              "      <td>3.492250e+07</td>\n",
              "    </tr>\n",
              "    <tr>\n",
              "      <th>max</th>\n",
              "      <td>151.863495</td>\n",
              "      <td>152.100006</td>\n",
              "      <td>149.887497</td>\n",
              "      <td>150.709000</td>\n",
              "      <td>150.709000</td>\n",
              "      <td>1.241400e+08</td>\n",
              "    </tr>\n",
              "  </tbody>\n",
              "</table>\n",
              "</div>\n",
              "      <button class=\"colab-df-convert\" onclick=\"convertToInteractive('df-da69ba9c-1d86-4ae1-b2bc-2819f5f11986')\"\n",
              "              title=\"Convert this dataframe to an interactive table.\"\n",
              "              style=\"display:none;\">\n",
              "        \n",
              "  <svg xmlns=\"http://www.w3.org/2000/svg\" height=\"24px\"viewBox=\"0 0 24 24\"\n",
              "       width=\"24px\">\n",
              "    <path d=\"M0 0h24v24H0V0z\" fill=\"none\"/>\n",
              "    <path d=\"M18.56 5.44l.94 2.06.94-2.06 2.06-.94-2.06-.94-.94-2.06-.94 2.06-2.06.94zm-11 1L8.5 8.5l.94-2.06 2.06-.94-2.06-.94L8.5 2.5l-.94 2.06-2.06.94zm10 10l.94 2.06.94-2.06 2.06-.94-2.06-.94-.94-2.06-.94 2.06-2.06.94z\"/><path d=\"M17.41 7.96l-1.37-1.37c-.4-.4-.92-.59-1.43-.59-.52 0-1.04.2-1.43.59L10.3 9.45l-7.72 7.72c-.78.78-.78 2.05 0 2.83L4 21.41c.39.39.9.59 1.41.59.51 0 1.02-.2 1.41-.59l7.78-7.78 2.81-2.81c.8-.78.8-2.07 0-2.86zM5.41 20L4 18.59l7.72-7.72 1.47 1.35L5.41 20z\"/>\n",
              "  </svg>\n",
              "      </button>\n",
              "      \n",
              "  <style>\n",
              "    .colab-df-container {\n",
              "      display:flex;\n",
              "      flex-wrap:wrap;\n",
              "      gap: 12px;\n",
              "    }\n",
              "\n",
              "    .colab-df-convert {\n",
              "      background-color: #E8F0FE;\n",
              "      border: none;\n",
              "      border-radius: 50%;\n",
              "      cursor: pointer;\n",
              "      display: none;\n",
              "      fill: #1967D2;\n",
              "      height: 32px;\n",
              "      padding: 0 0 0 0;\n",
              "      width: 32px;\n",
              "    }\n",
              "\n",
              "    .colab-df-convert:hover {\n",
              "      background-color: #E2EBFA;\n",
              "      box-shadow: 0px 1px 2px rgba(60, 64, 67, 0.3), 0px 1px 3px 1px rgba(60, 64, 67, 0.15);\n",
              "      fill: #174EA6;\n",
              "    }\n",
              "\n",
              "    [theme=dark] .colab-df-convert {\n",
              "      background-color: #3B4455;\n",
              "      fill: #D2E3FC;\n",
              "    }\n",
              "\n",
              "    [theme=dark] .colab-df-convert:hover {\n",
              "      background-color: #434B5C;\n",
              "      box-shadow: 0px 1px 3px 1px rgba(0, 0, 0, 0.15);\n",
              "      filter: drop-shadow(0px 1px 2px rgba(0, 0, 0, 0.3));\n",
              "      fill: #FFFFFF;\n",
              "    }\n",
              "  </style>\n",
              "\n",
              "      <script>\n",
              "        const buttonEl =\n",
              "          document.querySelector('#df-da69ba9c-1d86-4ae1-b2bc-2819f5f11986 button.colab-df-convert');\n",
              "        buttonEl.style.display =\n",
              "          google.colab.kernel.accessAllowed ? 'block' : 'none';\n",
              "\n",
              "        async function convertToInteractive(key) {\n",
              "          const element = document.querySelector('#df-da69ba9c-1d86-4ae1-b2bc-2819f5f11986');\n",
              "          const dataTable =\n",
              "            await google.colab.kernel.invokeFunction('convertToInteractive',\n",
              "                                                     [key], {});\n",
              "          if (!dataTable) return;\n",
              "\n",
              "          const docLinkHtml = 'Like what you see? Visit the ' +\n",
              "            '<a target=\"_blank\" href=https://colab.research.google.com/notebooks/data_table.ipynb>data table notebook</a>'\n",
              "            + ' to learn more about interactive tables.';\n",
              "          element.innerHTML = '';\n",
              "          dataTable['output_type'] = 'display_data';\n",
              "          await google.colab.output.renderOutput(dataTable, element);\n",
              "          const docLink = document.createElement('div');\n",
              "          docLink.innerHTML = docLinkHtml;\n",
              "          element.appendChild(docLink);\n",
              "        }\n",
              "      </script>\n",
              "    </div>\n",
              "  </div>\n",
              "  "
            ],
            "text/plain": [
              "              Open         High          Low        Close    Adj Close  \\\n",
              "count  1258.000000  1258.000000  1258.000000  1258.000000  1258.000000   \n",
              "mean     87.775274    88.793803    86.836276    87.831196    87.831196   \n",
              "std      30.627858    30.931427    30.290432    30.599817    30.599817   \n",
              "min      48.695000    50.176998    48.505501    48.811001    48.811001   \n",
              "25%      59.708999    60.144124    59.214249    59.705001    59.705001   \n",
              "50%      77.826752    78.865799    76.610127    77.925499    77.925499   \n",
              "75%     113.282623   114.807499   112.140499   113.340628   113.340628   \n",
              "max     151.863495   152.100006   149.887497   150.709000   150.709000   \n",
              "\n",
              "             Volume  \n",
              "count  1.258000e+03  \n",
              "mean   3.078643e+07  \n",
              "std    1.338514e+07  \n",
              "min    6.936000e+06  \n",
              "25%    2.232650e+07  \n",
              "50%    2.749400e+07  \n",
              "75%    3.492250e+07  \n",
              "max    1.241400e+08  "
            ]
          },
          "execution_count": 94,
          "metadata": {},
          "output_type": "execute_result"
        }
      ],
      "source": [
        "data.describe()"
      ]
    },
    {
      "cell_type": "code",
      "execution_count": 95,
      "metadata": {
        "colab": {
          "base_uri": "https://localhost:8080/"
        },
        "id": "d4tvqpoR62mg",
        "outputId": "a9d8c20e-6762-4906-bbc8-304ac85676e6"
      },
      "outputs": [
        {
          "data": {
            "text/plain": [
              "Date         1258\n",
              "Open         1236\n",
              "High         1245\n",
              "Low          1247\n",
              "Close        1246\n",
              "Adj Close    1246\n",
              "Volume       1233\n",
              "dtype: int64"
            ]
          },
          "execution_count": 95,
          "metadata": {},
          "output_type": "execute_result"
        }
      ],
      "source": [
        "data.nunique()"
      ]
    },
    {
      "cell_type": "code",
      "execution_count": 96,
      "metadata": {
        "colab": {
          "base_uri": "https://localhost:8080/",
          "height": 238
        },
        "id": "aOvvhazd62o1",
        "outputId": "ac094e97-3f6a-40bd-a173-5c3525b76291"
      },
      "outputs": [
        {
          "data": {
            "text/html": [
              "\n",
              "  <div id=\"df-b03791f3-9c80-400d-ac46-7e698c1c0556\">\n",
              "    <div class=\"colab-df-container\">\n",
              "      <div>\n",
              "<style scoped>\n",
              "    .dataframe tbody tr th:only-of-type {\n",
              "        vertical-align: middle;\n",
              "    }\n",
              "\n",
              "    .dataframe tbody tr th {\n",
              "        vertical-align: top;\n",
              "    }\n",
              "\n",
              "    .dataframe thead th {\n",
              "        text-align: right;\n",
              "    }\n",
              "</style>\n",
              "<table border=\"1\" class=\"dataframe\">\n",
              "  <thead>\n",
              "    <tr style=\"text-align: right;\">\n",
              "      <th></th>\n",
              "      <th>Open</th>\n",
              "      <th>High</th>\n",
              "      <th>Low</th>\n",
              "      <th>Close</th>\n",
              "      <th>Adj Close</th>\n",
              "      <th>Volume</th>\n",
              "    </tr>\n",
              "  </thead>\n",
              "  <tbody>\n",
              "    <tr>\n",
              "      <th>Open</th>\n",
              "      <td>1.000000</td>\n",
              "      <td>0.999541</td>\n",
              "      <td>0.999511</td>\n",
              "      <td>0.998930</td>\n",
              "      <td>0.998930</td>\n",
              "      <td>-0.246997</td>\n",
              "    </tr>\n",
              "    <tr>\n",
              "      <th>High</th>\n",
              "      <td>0.999541</td>\n",
              "      <td>1.000000</td>\n",
              "      <td>0.999401</td>\n",
              "      <td>0.999500</td>\n",
              "      <td>0.999500</td>\n",
              "      <td>-0.239840</td>\n",
              "    </tr>\n",
              "    <tr>\n",
              "      <th>Low</th>\n",
              "      <td>0.999511</td>\n",
              "      <td>0.999401</td>\n",
              "      <td>1.000000</td>\n",
              "      <td>0.999530</td>\n",
              "      <td>0.999530</td>\n",
              "      <td>-0.258735</td>\n",
              "    </tr>\n",
              "    <tr>\n",
              "      <th>Close</th>\n",
              "      <td>0.998930</td>\n",
              "      <td>0.999500</td>\n",
              "      <td>0.999530</td>\n",
              "      <td>1.000000</td>\n",
              "      <td>1.000000</td>\n",
              "      <td>-0.250647</td>\n",
              "    </tr>\n",
              "    <tr>\n",
              "      <th>Adj Close</th>\n",
              "      <td>0.998930</td>\n",
              "      <td>0.999500</td>\n",
              "      <td>0.999530</td>\n",
              "      <td>1.000000</td>\n",
              "      <td>1.000000</td>\n",
              "      <td>-0.250647</td>\n",
              "    </tr>\n",
              "    <tr>\n",
              "      <th>Volume</th>\n",
              "      <td>-0.246997</td>\n",
              "      <td>-0.239840</td>\n",
              "      <td>-0.258735</td>\n",
              "      <td>-0.250647</td>\n",
              "      <td>-0.250647</td>\n",
              "      <td>1.000000</td>\n",
              "    </tr>\n",
              "  </tbody>\n",
              "</table>\n",
              "</div>\n",
              "      <button class=\"colab-df-convert\" onclick=\"convertToInteractive('df-b03791f3-9c80-400d-ac46-7e698c1c0556')\"\n",
              "              title=\"Convert this dataframe to an interactive table.\"\n",
              "              style=\"display:none;\">\n",
              "        \n",
              "  <svg xmlns=\"http://www.w3.org/2000/svg\" height=\"24px\"viewBox=\"0 0 24 24\"\n",
              "       width=\"24px\">\n",
              "    <path d=\"M0 0h24v24H0V0z\" fill=\"none\"/>\n",
              "    <path d=\"M18.56 5.44l.94 2.06.94-2.06 2.06-.94-2.06-.94-.94-2.06-.94 2.06-2.06.94zm-11 1L8.5 8.5l.94-2.06 2.06-.94-2.06-.94L8.5 2.5l-.94 2.06-2.06.94zm10 10l.94 2.06.94-2.06 2.06-.94-2.06-.94-.94-2.06-.94 2.06-2.06.94z\"/><path d=\"M17.41 7.96l-1.37-1.37c-.4-.4-.92-.59-1.43-.59-.52 0-1.04.2-1.43.59L10.3 9.45l-7.72 7.72c-.78.78-.78 2.05 0 2.83L4 21.41c.39.39.9.59 1.41.59.51 0 1.02-.2 1.41-.59l7.78-7.78 2.81-2.81c.8-.78.8-2.07 0-2.86zM5.41 20L4 18.59l7.72-7.72 1.47 1.35L5.41 20z\"/>\n",
              "  </svg>\n",
              "      </button>\n",
              "      \n",
              "  <style>\n",
              "    .colab-df-container {\n",
              "      display:flex;\n",
              "      flex-wrap:wrap;\n",
              "      gap: 12px;\n",
              "    }\n",
              "\n",
              "    .colab-df-convert {\n",
              "      background-color: #E8F0FE;\n",
              "      border: none;\n",
              "      border-radius: 50%;\n",
              "      cursor: pointer;\n",
              "      display: none;\n",
              "      fill: #1967D2;\n",
              "      height: 32px;\n",
              "      padding: 0 0 0 0;\n",
              "      width: 32px;\n",
              "    }\n",
              "\n",
              "    .colab-df-convert:hover {\n",
              "      background-color: #E2EBFA;\n",
              "      box-shadow: 0px 1px 2px rgba(60, 64, 67, 0.3), 0px 1px 3px 1px rgba(60, 64, 67, 0.15);\n",
              "      fill: #174EA6;\n",
              "    }\n",
              "\n",
              "    [theme=dark] .colab-df-convert {\n",
              "      background-color: #3B4455;\n",
              "      fill: #D2E3FC;\n",
              "    }\n",
              "\n",
              "    [theme=dark] .colab-df-convert:hover {\n",
              "      background-color: #434B5C;\n",
              "      box-shadow: 0px 1px 3px 1px rgba(0, 0, 0, 0.15);\n",
              "      filter: drop-shadow(0px 1px 2px rgba(0, 0, 0, 0.3));\n",
              "      fill: #FFFFFF;\n",
              "    }\n",
              "  </style>\n",
              "\n",
              "      <script>\n",
              "        const buttonEl =\n",
              "          document.querySelector('#df-b03791f3-9c80-400d-ac46-7e698c1c0556 button.colab-df-convert');\n",
              "        buttonEl.style.display =\n",
              "          google.colab.kernel.accessAllowed ? 'block' : 'none';\n",
              "\n",
              "        async function convertToInteractive(key) {\n",
              "          const element = document.querySelector('#df-b03791f3-9c80-400d-ac46-7e698c1c0556');\n",
              "          const dataTable =\n",
              "            await google.colab.kernel.invokeFunction('convertToInteractive',\n",
              "                                                     [key], {});\n",
              "          if (!dataTable) return;\n",
              "\n",
              "          const docLinkHtml = 'Like what you see? Visit the ' +\n",
              "            '<a target=\"_blank\" href=https://colab.research.google.com/notebooks/data_table.ipynb>data table notebook</a>'\n",
              "            + ' to learn more about interactive tables.';\n",
              "          element.innerHTML = '';\n",
              "          dataTable['output_type'] = 'display_data';\n",
              "          await google.colab.output.renderOutput(dataTable, element);\n",
              "          const docLink = document.createElement('div');\n",
              "          docLink.innerHTML = docLinkHtml;\n",
              "          element.appendChild(docLink);\n",
              "        }\n",
              "      </script>\n",
              "    </div>\n",
              "  </div>\n",
              "  "
            ],
            "text/plain": [
              "               Open      High       Low     Close  Adj Close    Volume\n",
              "Open       1.000000  0.999541  0.999511  0.998930   0.998930 -0.246997\n",
              "High       0.999541  1.000000  0.999401  0.999500   0.999500 -0.239840\n",
              "Low        0.999511  0.999401  1.000000  0.999530   0.999530 -0.258735\n",
              "Close      0.998930  0.999500  0.999530  1.000000   1.000000 -0.250647\n",
              "Adj Close  0.998930  0.999500  0.999530  1.000000   1.000000 -0.250647\n",
              "Volume    -0.246997 -0.239840 -0.258735 -0.250647  -0.250647  1.000000"
            ]
          },
          "execution_count": 96,
          "metadata": {},
          "output_type": "execute_result"
        }
      ],
      "source": [
        "data.corr()"
      ]
    },
    {
      "cell_type": "code",
      "execution_count": 97,
      "metadata": {
        "id": "-DmKsgZo62rp"
      },
      "outputs": [],
      "source": [
        "import matplotlib.pyplot as plt\n",
        "import seaborn as sns"
      ]
    },
    {
      "cell_type": "code",
      "execution_count": 99,
      "metadata": {
        "id": "t5mHVCXo62uO"
      },
      "outputs": [],
      "source": [
        "import warnings\n",
        "warnings.filterwarnings('ignore')\n"
      ]
    },
    {
      "cell_type": "code",
      "execution_count": 101,
      "metadata": {
        "colab": {
          "base_uri": "https://localhost:8080/",
          "height": 432
        },
        "id": "v4n3kRkN8IaF",
        "outputId": "f4fbb286-3850-4ae0-cbb2-4d24b5c6b787"
      },
      "outputs": [
        {
          "data": {
            "image/png": "[encoded data removed]",
            "text/plain": [
              "<Figure size 1080x504 with 2 Axes>"
            ]
          },
          "metadata": {
            "needs_background": "light"
          },
          "output_type": "display_data"
        }
      ],
      "source": [
        "f, ax =plt.subplots(figsize = (15,7))\n",
        "sns.heatmap(data.corr(), annot = True, linewidths=0.5, linecolor = \"black\", fmt =\".4f\", ax = ax)\n",
        "plt.show()"
      ]
    },
    {
      "cell_type": "code",
      "execution_count": 102,
      "metadata": {
        "colab": {
          "base_uri": "https://localhost:8080/"
        },
        "id": "4uq53xiV8IeD",
        "outputId": "51f3b495-ed53-4d47-85de-4ea8c37e8a41"
      },
      "outputs": [
        {
          "data": {
            "text/plain": [
              "array([[ 53.150002],\n",
              "       [ 49.900002],\n",
              "       [ 50.581501],\n",
              "       ...,\n",
              "       [105.139999],\n",
              "       [105.889999],\n",
              "       [105.739998]])"
            ]
          },
          "execution_count": 102,
          "metadata": {},
          "output_type": "execute_result"
        }
      ],
      "source": [
        "data_set = data.loc[:,[\"Open\"]].values\n",
        "data_set"
      ]
    },
    {
      "cell_type": "code",
      "execution_count": 103,
      "metadata": {
        "colab": {
          "base_uri": "https://localhost:8080/"
        },
        "id": "ZP0sZdFl8Igw",
        "outputId": "e599d31b-9828-4296-da78-a54bc31de5a8"
      },
      "outputs": [
        {
          "data": {
            "text/plain": [
              "(1208, 1)"
            ]
          },
          "execution_count": 103,
          "metadata": {},
          "output_type": "execute_result"
        }
      ],
      "source": [
        "train = data_set[:len(data_set) -50]\n",
        "test = data_set[len(train):]\n",
        "\n",
        "train.reshape(train.shape[0],1)\n",
        "train.shape"
      ]
    },
    {
      "cell_type": "code",
      "execution_count": 104,
      "metadata": {
        "colab": {
          "base_uri": "https://localhost:8080/"
        },
        "id": "9SEp2-8G8Ijs",
        "outputId": "65c0d80a-1cf4-48db-b0a8-c44bde4af408"
      },
      "outputs": [
        {
          "data": {
            "text/plain": [
              "array([[0.04318181],\n",
              "       [0.01167994],\n",
              "       [0.01828563],\n",
              "       ...,\n",
              "       [0.3925617 ],\n",
              "       [0.36857183],\n",
              "       [0.40094603]])"
            ]
          },
          "execution_count": 104,
          "metadata": {},
          "output_type": "execute_result"
        }
      ],
      "source": [
        "from sklearn.preprocessing import MinMaxScaler\n",
        "scaler = MinMaxScaler(feature_range = (0,1))\n",
        "train_scaler = scaler.fit_transform(train)\n",
        "train_scaler"
      ]
    },
    {
      "cell_type": "code",
      "execution_count": 105,
      "metadata": {
        "colab": {
          "base_uri": "https://localhost:8080/",
          "height": 458
        },
        "id": "PMOOdbu28Ima",
        "outputId": "c71165b2-a942-419b-b2a7-aff278fcaf86"
      },
      "outputs": [
        {
          "data": {
            "image/png": "[encoded data removed]",
            "text/plain": [
              "<Figure size 1080x576 with 1 Axes>"
            ]
          },
          "metadata": {
            "needs_background": "light"
          },
          "output_type": "display_data"
        }
      ],
      "source": [
        "plt.figure(figsize=[15,8],)\n",
        "plt.plot(train_scaler)\n",
        "plt.show()"
      ]
    },
    {
      "cell_type": "code",
      "execution_count": 107,
      "metadata": {
        "id": "WnSjNX-M8Isu"
      },
      "outputs": [],
      "source": [
        "import numpy as np\n",
        "\n",
        "x_train=[]\n",
        "Y_train = []\n",
        "timesteps = 50\n",
        "\n",
        "for i in range (timesteps, len(train_scaler)):\n",
        "  x_train.append(train_scaler[i - timesteps:i, 0])\n",
        "  Y_train.append(train_scaler[i,0])\n",
        "\n",
        "x_train, Y_train = np.array(x_train), np.array(Y_train)\n",
        "x_train = np.reshape(x_train, (x_train.shape[0], x_train.shape[1], 1))"
      ]
    },
    {
      "cell_type": "markdown",
      "metadata": {
        "id": "lS_QQRJ4Mwiv"
      },
      "source": [
        "#### *STATEMENT 1:*\n",
        "\n",
        "##### **\"SHAPE \"** is an attribute of an array in NumPy that returns a tuple containing the dimensions of the array. For example, if you have a NumPy array with 2 rows and 3 columns, its shape would be (2, 3). The shape of an array is very useful for understanding the structure of the data and for performing mathematical operations on it, since many NumPy methods require arrays to have specific shapes in order to operate. It can also be used to change the shape of an array using the reshape() method\n",
        "\n",
        "#### *STATEMENT 2:*\n",
        "\n",
        "##### **\"RESHAPE \"** is a numpy function used to change the shape (form or dimension) of an array without changing its data. The reshape function receives as argument a tuple indicating the new shape you want to give to the array. The original shape of the array and the new shape must have the same number of elements.\n",
        "\n",
        "For example, if you have a one-dimensional array with 12 elements:\n",
        "\n",
        "**a = np.array([1, 2, 3, 4, 5, 6, 6, 7, 8, 9, 10, 11, 12])**.\n",
        "\n",
        "You can change its form to a two-dimensional *array of 3 rows and 4 columns:*.\n",
        "\n",
        "**b = a.reshape((3, 4))**.\n",
        "\n",
        "The result would be:\n",
        "\n",
        "**array**([[[ 1, 2, 3, 4],\n",
        "       [ 5, 6, 7, 8],\n",
        "       [ 9, 10, 11, 12]])\n",
        "\n",
        "In this way, the original array has been reorganized into a new two-dimensional array without changing the original data. This can be useful, for example, to prepare the input data to a machine learning model, which may require the data to be presented in a specific format."
      ]
    },
    {
      "cell_type": "code",
      "execution_count": 108,
      "metadata": {
        "colab": {
          "base_uri": "https://localhost:8080/"
        },
        "id": "OqSU8mWM8Iy1",
        "outputId": "0f3d0f90-fd32-4c5d-9a8f-1d553ac3d42f"
      },
      "outputs": [
        {
          "data": {
            "text/plain": [
              "(1158, 50, 1)"
            ]
          },
          "execution_count": 108,
          "metadata": {},
          "output_type": "execute_result"
        }
      ],
      "source": [
        "x_train.shape"
      ]
    },
    {
      "cell_type": "code",
      "execution_count": 109,
      "metadata": {
        "colab": {
          "base_uri": "https://localhost:8080/"
        },
        "id": "_-KFi22a8I3K",
        "outputId": "1a38107c-5d1f-4a5e-e3ff-90376d828ac1"
      },
      "outputs": [
        {
          "data": {
            "text/plain": [
              "array([[[0.04318181],\n",
              "        [0.01167994],\n",
              "        [0.01828563],\n",
              "        ...,\n",
              "        [0.07193573],\n",
              "        [0.08097918],\n",
              "        [0.08155107]],\n",
              "\n",
              "       [[0.01167994],\n",
              "        [0.01828563],\n",
              "        [0.02370878],\n",
              "        ...,\n",
              "        [0.08097918],\n",
              "        [0.08155107],\n",
              "        [0.07629269]],\n",
              "\n",
              "       [[0.01828563],\n",
              "        [0.02370878],\n",
              "        [0.0193906 ],\n",
              "        ...,\n",
              "        [0.08155107],\n",
              "        [0.07629269],\n",
              "        [0.06992445]],\n",
              "\n",
              "       ...,\n",
              "\n",
              "       [[0.46588837],\n",
              "        [0.44214077],\n",
              "        [0.42488745],\n",
              "        ...,\n",
              "        [0.4101543 ],\n",
              "        [0.38165721],\n",
              "        [0.37477527]],\n",
              "\n",
              "       [[0.44214077],\n",
              "        [0.42488745],\n",
              "        [0.45638932],\n",
              "        ...,\n",
              "        [0.38165721],\n",
              "        [0.37477527],\n",
              "        [0.3925617 ]],\n",
              "\n",
              "       [[0.42488745],\n",
              "        [0.45638932],\n",
              "        [0.45454764],\n",
              "        ...,\n",
              "        [0.37477527],\n",
              "        [0.3925617 ],\n",
              "        [0.36857183]]])"
            ]
          },
          "execution_count": 109,
          "metadata": {},
          "output_type": "execute_result"
        }
      ],
      "source": [
        "x_train"
      ]
    },
    {
      "cell_type": "code",
      "execution_count": 110,
      "metadata": {
        "colab": {
          "base_uri": "https://localhost:8080/"
        },
        "id": "d0zbArtk8I6G",
        "outputId": "de90677c-bd6b-4136-9181-4bd15a98e996"
      },
      "outputs": [
        {
          "data": {
            "text/plain": [
              "(1158,)"
            ]
          },
          "execution_count": 110,
          "metadata": {},
          "output_type": "execute_result"
        }
      ],
      "source": [
        "Y_train.shape"
      ]
    },
    {
      "cell_type": "code",
      "execution_count": 111,
      "metadata": {
        "colab": {
          "base_uri": "https://localhost:8080/"
        },
        "id": "IJ1GEdjC8I-L",
        "outputId": "bf39e616-e1b0-4a92-bd01-53b3528d31fe"
      },
      "outputs": [
        {
          "data": {
            "text/plain": [
              "array([0.07629269, 0.06992445, 0.070128  , ..., 0.3925617 , 0.36857183,\n",
              "       0.40094603])"
            ]
          },
          "execution_count": 111,
          "metadata": {},
          "output_type": "execute_result"
        }
      ],
      "source": [
        "Y_train"
      ]
    },
    {
      "cell_type": "code",
      "execution_count": 116,
      "metadata": {
        "colab": {
          "base_uri": "https://localhost:8080/"
        },
        "id": "FR9oxpQcA9_u",
        "outputId": "7d529fac-73b0-40ac-bc25-bfd5864fa957"
      },
      "outputs": [
        {
          "name": "stdout",
          "output_type": "stream",
          "text": [
            "Epoch 1/100\n",
            "37/37 [==============================] - 6s 53ms/step - loss: 0.4058\n",
            "Epoch 2/100\n",
            "37/37 [==============================] - 2s 57ms/step - loss: 0.2437\n",
            "Epoch 3/100\n",
            "37/37 [==============================] - 2s 42ms/step - loss: 0.1814\n",
            "Epoch 4/100\n",
            "37/37 [==============================] - 2s 41ms/step - loss: 0.1309\n",
            "Epoch 5/100\n",
            "37/37 [==============================] - 2s 42ms/step - loss: 0.1082\n",
            "Epoch 6/100\n",
            "37/37 [==============================] - 2s 42ms/step - loss: 0.0838\n",
            "Epoch 7/100\n",
            "37/37 [==============================] - 2s 42ms/step - loss: 0.0654\n",
            "Epoch 8/100\n",
            "37/37 [==============================] - 2s 41ms/step - loss: 0.0606\n",
            "Epoch 9/100\n",
            "37/37 [==============================] - 2s 56ms/step - loss: 0.0449\n",
            "Epoch 10/100\n",
            "37/37 [==============================] - 2s 53ms/step - loss: 0.0434\n",
            "Epoch 11/100\n",
            "37/37 [==============================] - 1s 40ms/step - loss: 0.0410\n",
            "Epoch 12/100\n",
            "37/37 [==============================] - 1s 39ms/step - loss: 0.0315\n",
            "Epoch 13/100\n",
            "37/37 [==============================] - 2s 41ms/step - loss: 0.0292\n",
            "Epoch 14/100\n",
            "37/37 [==============================] - 1s 40ms/step - loss: 0.0261\n",
            "Epoch 15/100\n",
            "37/37 [==============================] - 2s 42ms/step - loss: 0.0241\n",
            "Epoch 16/100\n",
            "37/37 [==============================] - 3s 80ms/step - loss: 0.0210\n",
            "Epoch 17/100\n",
            "37/37 [==============================] - 3s 84ms/step - loss: 0.0208\n",
            "Epoch 18/100\n",
            "37/37 [==============================] - 3s 75ms/step - loss: 0.0171\n",
            "Epoch 19/100\n",
            "37/37 [==============================] - 2s 56ms/step - loss: 0.0170\n",
            "Epoch 20/100\n",
            "37/37 [==============================] - 4s 95ms/step - loss: 0.0154\n",
            "Epoch 21/100\n",
            "37/37 [==============================] - 4s 108ms/step - loss: 0.0147\n",
            "Epoch 22/100\n",
            "37/37 [==============================] - 3s 81ms/step - loss: 0.0138\n",
            "Epoch 23/100\n",
            "37/37 [==============================] - 3s 72ms/step - loss: 0.0125\n",
            "Epoch 24/100\n",
            "37/37 [==============================] - 3s 77ms/step - loss: 0.0110\n",
            "Epoch 25/100\n",
            "37/37 [==============================] - 2s 64ms/step - loss: 0.0119\n",
            "Epoch 26/100\n",
            "37/37 [==============================] - 3s 91ms/step - loss: 0.0112\n",
            "Epoch 27/100\n",
            "37/37 [==============================] - 2s 63ms/step - loss: 0.0088\n",
            "Epoch 28/100\n",
            "37/37 [==============================] - 2s 46ms/step - loss: 0.0096\n",
            "Epoch 29/100\n",
            "37/37 [==============================] - 2s 41ms/step - loss: 0.0096\n",
            "Epoch 30/100\n",
            "37/37 [==============================] - 2s 41ms/step - loss: 0.0090\n",
            "Epoch 31/100\n",
            "37/37 [==============================] - 2s 41ms/step - loss: 0.0080\n",
            "Epoch 32/100\n",
            "37/37 [==============================] - 2s 53ms/step - loss: 0.0089\n",
            "Epoch 33/100\n",
            "37/37 [==============================] - 3s 90ms/step - loss: 0.0073\n",
            "Epoch 34/100\n",
            "37/37 [==============================] - 2s 53ms/step - loss: 0.0083\n",
            "Epoch 35/100\n",
            "37/37 [==============================] - 2s 52ms/step - loss: 0.0062\n",
            "Epoch 36/100\n",
            "37/37 [==============================] - 2s 57ms/step - loss: 0.0069\n",
            "Epoch 37/100\n",
            "37/37 [==============================] - 2s 62ms/step - loss: 0.0068\n",
            "Epoch 38/100\n",
            "37/37 [==============================] - 3s 76ms/step - loss: 0.0061\n",
            "Epoch 39/100\n",
            "37/37 [==============================] - 3s 93ms/step - loss: 0.0059\n",
            "Epoch 40/100\n",
            "37/37 [==============================] - 2s 42ms/step - loss: 0.0062\n",
            "Epoch 41/100\n",
            "37/37 [==============================] - 2s 41ms/step - loss: 0.0053\n",
            "Epoch 42/100\n",
            "37/37 [==============================] - 2s 42ms/step - loss: 0.0050\n",
            "Epoch 43/100\n",
            "37/37 [==============================] - 1s 40ms/step - loss: 0.0056\n",
            "Epoch 44/100\n",
            "37/37 [==============================] - 1s 39ms/step - loss: 0.0051\n",
            "Epoch 45/100\n",
            "37/37 [==============================] - 2s 62ms/step - loss: 0.0051\n",
            "Epoch 46/100\n",
            "37/37 [==============================] - 2s 49ms/step - loss: 0.0049\n",
            "Epoch 47/100\n",
            "37/37 [==============================] - 2s 41ms/step - loss: 0.0048\n",
            "Epoch 48/100\n",
            "37/37 [==============================] - 2s 41ms/step - loss: 0.0049\n",
            "Epoch 49/100\n",
            "37/37 [==============================] - 2s 41ms/step - loss: 0.0050\n",
            "Epoch 50/100\n",
            "37/37 [==============================] - 1s 40ms/step - loss: 0.0052\n",
            "Epoch 51/100\n",
            "37/37 [==============================] - 2s 41ms/step - loss: 0.0050\n",
            "Epoch 52/100\n",
            "37/37 [==============================] - 2s 43ms/step - loss: 0.0043\n",
            "Epoch 53/100\n",
            "37/37 [==============================] - 2s 63ms/step - loss: 0.0041\n",
            "Epoch 54/100\n",
            "37/37 [==============================] - 2s 46ms/step - loss: 0.0038\n",
            "Epoch 55/100\n",
            "37/37 [==============================] - 3s 85ms/step - loss: 0.0038\n",
            "Epoch 56/100\n",
            "37/37 [==============================] - 3s 86ms/step - loss: 0.0039\n",
            "Epoch 57/100\n",
            "37/37 [==============================] - 2s 45ms/step - loss: 0.0039\n",
            "Epoch 58/100\n",
            "37/37 [==============================] - 2s 53ms/step - loss: 0.0040\n",
            "Epoch 59/100\n",
            "37/37 [==============================] - 2s 58ms/step - loss: 0.0038\n",
            "Epoch 60/100\n",
            "37/37 [==============================] - 2s 41ms/step - loss: 0.0035\n",
            "Epoch 61/100\n",
            "37/37 [==============================] - 2s 41ms/step - loss: 0.0035\n",
            "Epoch 62/100\n",
            "37/37 [==============================] - 2s 41ms/step - loss: 0.0037\n",
            "Epoch 63/100\n",
            "37/37 [==============================] - 2s 41ms/step - loss: 0.0030\n",
            "Epoch 64/100\n",
            "37/37 [==============================] - 2s 41ms/step - loss: 0.0032\n",
            "Epoch 65/100\n",
            "37/37 [==============================] - 2s 41ms/step - loss: 0.0033\n",
            "Epoch 66/100\n",
            "37/37 [==============================] - 2s 54ms/step - loss: 0.0030\n",
            "Epoch 67/100\n",
            "37/37 [==============================] - 2s 57ms/step - loss: 0.0034\n",
            "Epoch 68/100\n",
            "37/37 [==============================] - 2s 41ms/step - loss: 0.0030\n",
            "Epoch 69/100\n",
            "37/37 [==============================] - 1s 39ms/step - loss: 0.0029\n",
            "Epoch 70/100\n",
            "37/37 [==============================] - 2s 41ms/step - loss: 0.0031\n",
            "Epoch 71/100\n",
            "37/37 [==============================] - 2s 41ms/step - loss: 0.0031\n",
            "Epoch 72/100\n",
            "37/37 [==============================] - 2s 43ms/step - loss: 0.0032\n",
            "Epoch 73/100\n",
            "37/37 [==============================] - 1s 40ms/step - loss: 0.0030\n",
            "Epoch 74/100\n",
            "37/37 [==============================] - 3s 70ms/step - loss: 0.0027\n",
            "Epoch 75/100\n",
            "37/37 [==============================] - 2s 56ms/step - loss: 0.0030\n",
            "Epoch 76/100\n",
            "37/37 [==============================] - 2s 49ms/step - loss: 0.0030\n",
            "Epoch 77/100\n",
            "37/37 [==============================] - 3s 75ms/step - loss: 0.0024\n",
            "Epoch 78/100\n",
            "37/37 [==============================] - 2s 45ms/step - loss: 0.0027\n",
            "Epoch 79/100\n",
            "37/37 [==============================] - 1s 40ms/step - loss: 0.0025\n",
            "Epoch 80/100\n",
            "37/37 [==============================] - 3s 75ms/step - loss: 0.0028\n",
            "Epoch 81/100\n",
            "37/37 [==============================] - 3s 81ms/step - loss: 0.0026\n",
            "Epoch 82/100\n",
            "37/37 [==============================] - 2s 54ms/step - loss: 0.0028\n",
            "Epoch 83/100\n",
            "37/37 [==============================] - 2s 48ms/step - loss: 0.0026\n",
            "Epoch 84/100\n",
            "37/37 [==============================] - 2s 44ms/step - loss: 0.0023\n",
            "Epoch 85/100\n",
            "37/37 [==============================] - 2s 50ms/step - loss: 0.0027\n",
            "Epoch 86/100\n",
            "37/37 [==============================] - 2s 44ms/step - loss: 0.0022\n",
            "Epoch 87/100\n",
            "37/37 [==============================] - 3s 70ms/step - loss: 0.0024\n",
            "Epoch 88/100\n",
            "37/37 [==============================] - 3s 74ms/step - loss: 0.0022\n",
            "Epoch 89/100\n",
            "37/37 [==============================] - 3s 81ms/step - loss: 0.0022\n",
            "Epoch 90/100\n",
            "37/37 [==============================] - 3s 76ms/step - loss: 0.0025\n",
            "Epoch 91/100\n",
            "37/37 [==============================] - 4s 95ms/step - loss: 0.0029\n",
            "Epoch 92/100\n",
            "37/37 [==============================] - 3s 80ms/step - loss: 0.0022\n",
            "Epoch 93/100\n",
            "37/37 [==============================] - 3s 87ms/step - loss: 0.0022\n",
            "Epoch 94/100\n",
            "37/37 [==============================] - 2s 56ms/step - loss: 0.0026\n",
            "Epoch 95/100\n",
            "37/37 [==============================] - 2s 43ms/step - loss: 0.0023\n",
            "Epoch 96/100\n",
            "37/37 [==============================] - 2s 42ms/step - loss: 0.0024\n",
            "Epoch 97/100\n",
            "37/37 [==============================] - 2s 60ms/step - loss: 0.0022\n",
            "Epoch 98/100\n",
            "37/37 [==============================] - 2s 50ms/step - loss: 0.0023\n",
            "Epoch 99/100\n",
            "37/37 [==============================] - 2s 41ms/step - loss: 0.0024\n",
            "Epoch 100/100\n",
            "37/37 [==============================] - 2s 42ms/step - loss: 0.0022\n"
          ]
        },
        {
          "data": {
            "text/plain": [
              "<keras.callbacks.History at 0x7fc9c42c6c40>"
            ]
          },
          "execution_count": 116,
          "metadata": {},
          "output_type": "execute_result"
        }
      ],
      "source": [
        "# Import Library\n",
        "from keras.models import Sequential\n",
        "from keras.layers import Dense, SimpleRNN, Dropout\n",
        "\n",
        "# Initialising the RNN\n",
        "regressor = Sequential()\n",
        "\n",
        "# Add the first RNN layer and some Dropout regularisation\n",
        "regressor.add(SimpleRNN(units = 50, activation = \"tanh\", return_sequences = True))\n",
        "regressor.add(Dropout(0.2))\n",
        "\n",
        "# Second RNN layer and some Dropout regularisation\n",
        "regressor.add(SimpleRNN(units = 50, activation = \"tanh\", return_sequences = True))\n",
        "regressor.add(Dropout(0.2))\n",
        "\n",
        "# Third RNN layer and some Dropout regularisation\n",
        "regressor.add(SimpleRNN(units = 50, activation = \"tanh\", return_sequences = True))\n",
        "regressor.add(Dropout(0.2))\n",
        "\n",
        "# Fourth RNN layer and some Dropout regularisation\n",
        "regressor.add(SimpleRNN(units = 50))\n",
        "regressor.add(Dropout(0.2))\n",
        "\n",
        "# Add the output layer\n",
        "regressor.add(Dense(units = 1))\n",
        "\n",
        "# Compiling the RNN\n",
        "regressor.compile(optimizer = \"adam\", loss = \"mean_squared_error\")\n",
        "\n",
        "# Fitting the RNN to the training set\n",
        "regressor.fit(x_train, Y_train, epochs = 100, batch_size = 32)"
      ]
    },
    {
      "cell_type": "code",
      "execution_count": 117,
      "metadata": {
        "id": "EN-2btaXA-JW"
      },
      "outputs": [],
      "source": [
        "inputs = data_set[len(data_set) - len(test) - timesteps:]\n",
        "inputs = scaler.transform(inputs)"
      ]
    },
    {
      "cell_type": "code",
      "execution_count": 118,
      "metadata": {
        "colab": {
          "base_uri": "https://localhost:8080/"
        },
        "id": "GOphIqqlA-Mo",
        "outputId": "c754fcad-4bce-4754-892d-06efb7f4825f"
      },
      "outputs": [
        {
          "name": "stdout",
          "output_type": "stream",
          "text": [
            "2/2 [==============================] - 0s 13ms/step\n"
          ]
        }
      ],
      "source": [
        "x_test = []\n",
        "for i in range (timesteps, inputs.shape[0]):\n",
        "  x_test.append(inputs[i - timesteps:i, 0])\n",
        "\n",
        "x_test_rnn = np.array(x_test)\n",
        "x_test_rnn = np.reshape(x_test_rnn, (x_test_rnn.shape[0], x_test_rnn.shape[1], 1))\n",
        "predicted_stock_price = regressor.predict(x_test_rnn)\n",
        "predicted_stock_price = scaler.inverse_transform(predicted_stock_price)"
      ]
    },
    {
      "cell_type": "code",
      "execution_count": 119,
      "metadata": {
        "colab": {
          "base_uri": "https://localhost:8080/",
          "height": 295
        },
        "id": "PR-66GW4A-Pn",
        "outputId": "2421fb9a-e369-4bd2-9a0f-01ce6b49bd81"
      },
      "outputs": [
        {
          "data": {
            "image/png": "[encoded data removed]",
            "text/plain": [
              "<Figure size 432x288 with 1 Axes>"
            ]
          },
          "metadata": {
            "needs_background": "light"
          },
          "output_type": "display_data"
        }
      ],
      "source": [
        "# visualising the results\n",
        "plt.plot(test, color = \"red\", label = \"Real Google Stock Price\")\n",
        "plt.plot(predicted_stock_price, color = \"blue\", label = \"Predicted Google Stock Price\")\n",
        "plt.title(\"Google Stock Price Prediction\")\n",
        "plt.xlabel(\"Time\")\n",
        "plt.ylabel(\"Google Stock Price\")\n",
        "plt.legend()\n",
        "plt.show()"
      ]
    },
    {
      "cell_type": "code",
      "execution_count": 120,
      "metadata": {
        "id": "VZys09vUA-Sw"
      },
      "outputs": [],
      "source": [
        "trainX = np.reshape(x_train, (x_train.shape[0], 1, x_train.shape[1]))"
      ]
    },
    {
      "cell_type": "code",
      "execution_count": 121,
      "metadata": {
        "id": "RR1nTHWqA-WU"
      },
      "outputs": [],
      "source": [
        "import math \n",
        "from keras.models import Sequential \n",
        "from keras.layers import Dense, LSTM\n",
        "from sklearn.preprocessing import MinMaxScaler\n",
        "from sklearn.metrics import mean_squared_error"
      ]
    },
    {
      "cell_type": "code",
      "execution_count": 122,
      "metadata": {
        "colab": {
          "base_uri": "https://localhost:8080/"
        },
        "id": "oL5Ft1yVA-cv",
        "outputId": "259b4989-69dc-4c46-9190-19126adf7364"
      },
      "outputs": [
        {
          "name": "stdout",
          "output_type": "stream",
          "text": [
            "Epoch 1/50\n",
            "1158/1158 [==============================] - 4s 2ms/step - loss: 0.0093\n",
            "Epoch 2/50\n",
            "1158/1158 [==============================] - 3s 2ms/step - loss: 0.0014\n",
            "Epoch 3/50\n",
            "1158/1158 [==============================] - 2s 2ms/step - loss: 0.0013\n",
            "Epoch 4/50\n",
            "1158/1158 [==============================] - 2s 2ms/step - loss: 0.0011\n",
            "Epoch 5/50\n",
            "1158/1158 [==============================] - 2s 2ms/step - loss: 0.0012\n",
            "Epoch 6/50\n",
            "1158/1158 [==============================] - 2s 2ms/step - loss: 0.0011\n",
            "Epoch 7/50\n",
            "1158/1158 [==============================] - 2s 2ms/step - loss: 8.8545e-04\n",
            "Epoch 8/50\n",
            "1158/1158 [==============================] - 2s 2ms/step - loss: 9.7694e-04\n",
            "Epoch 9/50\n",
            "1158/1158 [==============================] - 2s 2ms/step - loss: 9.7451e-04\n",
            "Epoch 10/50\n",
            "1158/1158 [==============================] - 2s 2ms/step - loss: 8.8550e-04\n",
            "Epoch 11/50\n",
            "1158/1158 [==============================] - 2s 2ms/step - loss: 8.1303e-04\n",
            "Epoch 12/50\n",
            "1158/1158 [==============================] - 2s 2ms/step - loss: 9.5984e-04\n",
            "Epoch 13/50\n",
            "1158/1158 [==============================] - 2s 2ms/step - loss: 7.1915e-04\n",
            "Epoch 14/50\n",
            "1158/1158 [==============================] - 2s 2ms/step - loss: 7.4676e-04\n",
            "Epoch 15/50\n",
            "1158/1158 [==============================] - 2s 2ms/step - loss: 7.4361e-04\n",
            "Epoch 16/50\n",
            "1158/1158 [==============================] - 2s 2ms/step - loss: 7.2527e-04\n",
            "Epoch 17/50\n",
            "1158/1158 [==============================] - 3s 2ms/step - loss: 8.1245e-04\n",
            "Epoch 18/50\n",
            "1158/1158 [==============================] - 2s 2ms/step - loss: 6.6175e-04\n",
            "Epoch 19/50\n",
            "1158/1158 [==============================] - 4s 3ms/step - loss: 6.5964e-04\n",
            "Epoch 20/50\n",
            "1158/1158 [==============================] - 4s 3ms/step - loss: 7.4678e-04\n",
            "Epoch 21/50\n",
            "1158/1158 [==============================] - 3s 2ms/step - loss: 7.5704e-04\n",
            "Epoch 22/50\n",
            "1158/1158 [==============================] - 3s 3ms/step - loss: 6.7582e-04\n",
            "Epoch 23/50\n",
            "1158/1158 [==============================] - 4s 3ms/step - loss: 7.1434e-04\n",
            "Epoch 24/50\n",
            "1158/1158 [==============================] - 3s 2ms/step - loss: 6.6101e-04\n",
            "Epoch 25/50\n",
            "1158/1158 [==============================] - 3s 3ms/step - loss: 6.1923e-04\n",
            "Epoch 26/50\n",
            "1158/1158 [==============================] - 3s 2ms/step - loss: 7.3255e-04\n",
            "Epoch 27/50\n",
            "1158/1158 [==============================] - 3s 3ms/step - loss: 6.6648e-04\n",
            "Epoch 28/50\n",
            "1158/1158 [==============================] - 2s 2ms/step - loss: 6.6009e-04\n",
            "Epoch 29/50\n",
            "1158/1158 [==============================] - 2s 2ms/step - loss: 6.8924e-04\n",
            "Epoch 30/50\n",
            "1158/1158 [==============================] - 2s 2ms/step - loss: 7.1931e-04\n",
            "Epoch 31/50\n",
            "1158/1158 [==============================] - 2s 2ms/step - loss: 6.5730e-04\n",
            "Epoch 32/50\n",
            "1158/1158 [==============================] - 2s 2ms/step - loss: 6.5996e-04\n",
            "Epoch 33/50\n",
            "1158/1158 [==============================] - 3s 2ms/step - loss: 6.0263e-04\n",
            "Epoch 34/50\n",
            "1158/1158 [==============================] - 3s 2ms/step - loss: 6.3262e-04\n",
            "Epoch 35/50\n",
            "1158/1158 [==============================] - 3s 2ms/step - loss: 6.2644e-04\n",
            "Epoch 36/50\n",
            "1158/1158 [==============================] - 2s 2ms/step - loss: 6.9535e-04\n",
            "Epoch 37/50\n",
            "1158/1158 [==============================] - 3s 3ms/step - loss: 6.3408e-04\n",
            "Epoch 38/50\n",
            "1158/1158 [==============================] - 5s 4ms/step - loss: 6.3133e-04\n",
            "Epoch 39/50\n",
            "1158/1158 [==============================] - 4s 4ms/step - loss: 6.6631e-04\n",
            "Epoch 40/50\n",
            "1158/1158 [==============================] - 6s 5ms/step - loss: 6.3387e-04\n",
            "Epoch 41/50\n",
            "1158/1158 [==============================] - 3s 3ms/step - loss: 6.4407e-04\n",
            "Epoch 42/50\n",
            "1158/1158 [==============================] - 3s 3ms/step - loss: 6.9756e-04\n",
            "Epoch 43/50\n",
            "1158/1158 [==============================] - 3s 3ms/step - loss: 6.2239e-04\n",
            "Epoch 44/50\n",
            "1158/1158 [==============================] - 4s 4ms/step - loss: 5.1064e-04\n",
            "Epoch 45/50\n",
            "1158/1158 [==============================] - 3s 3ms/step - loss: 5.8359e-04\n",
            "Epoch 46/50\n",
            "1158/1158 [==============================] - 3s 2ms/step - loss: 5.8936e-04\n",
            "Epoch 47/50\n",
            "1158/1158 [==============================] - 2s 2ms/step - loss: 6.6113e-04\n",
            "Epoch 48/50\n",
            "1158/1158 [==============================] - 3s 2ms/step - loss: 6.4915e-04\n",
            "Epoch 49/50\n",
            "1158/1158 [==============================] - 3s 3ms/step - loss: 5.9102e-04\n",
            "Epoch 50/50\n",
            "1158/1158 [==============================] - 3s 2ms/step - loss: 6.8455e-04\n"
          ]
        },
        {
          "data": {
            "text/plain": [
              "<keras.callbacks.History at 0x7fc9bd8d2b20>"
            ]
          },
          "execution_count": 122,
          "metadata": {},
          "output_type": "execute_result"
        }
      ],
      "source": [
        "model = Sequential()\n",
        "model.add(LSTM(10, input_shape = (1, timesteps)))\n",
        "model.add(Dense(1))\n",
        "model.compile(loss = \"mean_squared_error\", optimizer = \"adam\")\n",
        "model.fit(trainX, Y_train, epochs = 50, batch_size = 1)"
      ]
    },
    {
      "cell_type": "code",
      "execution_count": 123,
      "metadata": {
        "colab": {
          "base_uri": "https://localhost:8080/"
        },
        "id": "9k9xtN_pA-ii",
        "outputId": "9a9e2af2-1ad8-4576-c138-e3a8f87dcaa8"
      },
      "outputs": [
        {
          "name": "stdout",
          "output_type": "stream",
          "text": [
            "2/2 [==============================] - 0s 6ms/step\n"
          ]
        }
      ],
      "source": [
        "testX = np.array(x_test)\n",
        "testX = testX.reshape(testX.shape[0], 1, testX.shape[1])\n",
        "\n",
        "predict_lstm = model.predict(testX)\n",
        "predict_lstm = scaler.inverse_transform(predict_lstm)"
      ]
    },
    {
      "cell_type": "code",
      "execution_count": 124,
      "metadata": {
        "colab": {
          "base_uri": "https://localhost:8080/",
          "height": 295
        },
        "id": "md2TBpq0A-kw",
        "outputId": "eb814cc5-1ee9-47d6-8d72-f988729ad0de"
      },
      "outputs": [
        {
          "data": {
            "image/png": "[encoded data removed]",
            "text/plain": [
              "<Figure size 432x288 with 1 Axes>"
            ]
          },
          "metadata": {
            "needs_background": "light"
          },
          "output_type": "display_data"
        }
      ],
      "source": [
        "plt.plot(test, color = \"red\", label = \"Real Google Stock Price\")\n",
        "plt.plot(predict_lstm, color = \"blue\", label = \"Predicted Google Stock Price\")\n",
        "plt.title(\"Google Stock Price Prediction\")\n",
        "plt.xlabel(\"Time\")\n",
        "plt.ylabel(\"Google Stock Price\")\n",
        "plt.legend()\n",
        "plt.show()"
      ]
    },
    {
      "cell_type": "markdown",
      "metadata": {
        "id": "zEi6VkuqMbwI"
      },
      "source": [
        "#### DISCLAIMER:\n",
        "##### LSTM stands for Long Short-Term Memory and is a type of recurrent neural network (RNN) that is used to analyze sequences of data, especially in time series modeling problems.\n",
        "\n",
        "Unlike conventional RNNs, which have trouble remembering prior information in very long sequences, LSTMs have the ability to hold long-term information in memory and recall it for later use in prediction. This is achieved by introducing a memory cell into the network architecture, which allows the input, output and forgetting of information in memory through various gates and mathematical operations."
      ]
    }
  ],
  "metadata": {
    "colab": {
      "provenance": []
    },
    "kernelspec": {
      "display_name": "Python 3",
      "name": "python3"
    },
    "language_info": {
      "name": "python"
    }
  },
  "nbformat": 4,
  "nbformat_minor": 0
}
